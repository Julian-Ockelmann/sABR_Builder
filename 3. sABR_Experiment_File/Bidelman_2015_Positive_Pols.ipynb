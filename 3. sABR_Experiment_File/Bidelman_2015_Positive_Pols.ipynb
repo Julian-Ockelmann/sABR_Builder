{
  "nbformat": 4,
  "nbformat_minor": 0,
  "metadata": {
    "colab": {
      "provenance": [],
      "collapsed_sections": [
        "ReiWNAG_ozaw"
      ]
    },
    "kernelspec": {
      "name": "python3",
      "display_name": "Python 3"
    },
    "language_info": {
      "name": "python"
    }
  },
  "cells": [
    {
      "cell_type": "markdown",
      "source": [
        "# **Script for creating experiment files for auditory brainstem response (ABR) experiments**\n",
        "\n",
        "## Script Info\n",
        "---\n",
        "- This script creates a .wav file with audio-triggered /da/ syllables - commonly used in auditory neuroscience for evoking ABRs.\n",
        "\n",
        "- This particular implementation uses the ABR paradigm suggested in the work of G. M. Bidelman (2015). As such, this implementation can be used to analyse both cortical and subcortical responses to the chosen stimuli. For further information, please read the paradigm's original paper¹. A visual representation of the paradigm principle is given below:\n",
        "![Picture1.png](data:image/png;base64,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)\n",
        "\n",
        "- You can easily adapt this script to your own needs by swapping out the syllable stimulus file and adapting parameters like inter stimulus interval (ISI) duration, number of sweeps per block, etc. etc.\n",
        "\n",
        "- The script was written and tested in a Google Colab notebook. You can easily just drag & drop this script in there and have it run. Make sure to plug in your own directory paths and already audio-triggered syllable .wav  file. Alternatively, you can use the cut and triggered /da/ syllable file, that's included in this repository.\n",
        "\n",
        "- For questions and inquiries, contact julian.ockelmann@uzh.ch\n",
        "\n",
        "- ¹ Bidelman, G. M. (2015). Towards an optimal paradigm for simultaneously recording cortical and brainstem auditory evoked potentials. Journal of neuroscience methods, 241, 94-100.\n",
        "\n",
        "## Contact\n",
        "---\n",
        "Author of this script:\n",
        "- Julian Ockelmann, PhD\n",
        "- Computational Neuroscience of Speech & Hearing\n",
        "- University of Zurich\n",
        "- julian.ockelmann@uzh.ch"
      ],
      "metadata": {
        "id": "Vua0vN-GXtny"
      }
    },
    {
      "cell_type": "markdown",
      "source": [
        "## Libraries, Modules & Directories\n",
        "---\n",
        "\n"
      ],
      "metadata": {
        "id": "ReiWNAG_ozaw"
      }
    },
    {
      "cell_type": "code",
      "source": [
        "# Install necessary libraries\n",
        "!pip install pydub\n",
        "!add-apt-repository -y ppa:savoury1/ffmpeg4\n",
        "!apt-get -qq install -y ffmpeg"
      ],
      "metadata": {
        "id": "0LBBXhLN9xwb",
        "colab": {
          "base_uri": "https://localhost:8080/"
        },
        "outputId": "c14fcf71-e69c-46c4-bfa6-2f3730e41a97"
      },
      "execution_count": 7,
      "outputs": [
        {
          "output_type": "stream",
          "name": "stdout",
          "text": [
            "Requirement already satisfied: pydub in /usr/local/lib/python3.10/dist-packages (0.25.1)\n",
            "Repository: 'deb https://ppa.launchpadcontent.net/savoury1/ffmpeg4/ubuntu/ jammy main'\n",
            "Description:\n",
            "FFmpeg 4.4.4 builds (& associated multimedia packages) for Xenial & newer.\n",
            "\n",
            "*** Anyone interested in full builds of FFmpeg 4.4.x including all \"bells and whistles\" needs to have donated, after which access to the new private PPA can be requested. See my Launchpad page linked below for details. ***\n",
            "\n",
            "*** Please always see https://launchpad.net/~savoury1 for general updates about this Launchpad site before contacting me or reporting any bugs! ***\n",
            "\n",
            "*** Big thanks to all those who have donated to support this project, you are very directly helping to keep it alive! To all who have not donated: please do so if you can afford it, this project depends on donations. ***\n",
            "\n",
            "If software at this site is useful to you then please consider a donation:\n",
            "\n",
            "*** Donations: https://paypal.me/Savoury1 & https://ko-fi.com/Savoury1 ***\n",
            "*** Also https://patreon.com/Savoury1 & https://liberapay.com/Savoury1 ***\n",
            "\n",
            "Update (5 Apr 2023): FFmpeg 4.4 builds from today onwards are now generic, in that they are similar to current Ubuntu 22.04 Jammy FFmpeg builds. All of the dated updates below still apply to the FFmpeg 4.x builds available at a private \"subscriber only\" PPA (ppa:savoury1/ffmpeg) for supporters.\n",
            "\n",
            "Update (24 Jan 2023): FFmpeg 4.4 builds now have AMD AMF (Advanced Media Framework) support, using latest headers from AMF 1.4.29 (released today).\n",
            "\n",
            "Update (23 Oct 2022): FFmpeg 4.4 builds now have rav1e (new Rust-based AV1 encoder) support & are also built with nv-codec-headers 11.1.5.1 (latest).\n",
            "\n",
            "Update (6 Apr 2022): FFmpeg 4.4 builds now have Netflix VMAF support, with thanks to Frank B. (equal #1 patron of these PPAs) for suggesting/testing!\n",
            "\n",
            "Update (8 May 2021): FFmpeg 4.4 uploads from today onwards are built with these additional optional libraries: glslang (shader support), SVT-AV1 (scalable AV1 encoder), zimg (scaling, colorspace conversion, dithering), Vulkan (GPU acceleration on supported hardware), and SMB (Samba sharing).\n",
            "\n",
            "==========================================================================\n",
            "                   FFmpeg 4 - media tool (Xenial & newer)\n",
            "==========================================================================\n",
            "\n",
            "aom (3.7.1), aribb24 (1.0.3+git20160115), chafa (1.12.4), chromaprint (1.5.1), cjson (1.7.15), codec2 (1.2.0), cppzmq (4.9.0), dav1d (1.3.0), ffmpeg (4.4.4), ffms2 (2.23), flac (1.4.3), fluidsynth (2.3.4), fontconfig (2.13.1), freeglut (3.4.0), freetype (2.11.1), gnutls28 (3.7.3), gpac (2.0.0), gst-{libav,python}1.0 (1.22.{6,7,8} for gst*), gst-plugins-{bad,base,good,ugly}1.0, gstreamer{-vaapi,1.0}, harfbuzz (6.0.0), ilmbase (3.1.9 = imath), intel-gmmlib (22.3.16), intel-media{-driver,-driver-non-free} (23.2.4), intel-mediasdk (23.2.2), lensfun (0.3.3), libass (0.17.1), libavtp (0.2.0), libbluray (1.3.4), libbs2b (3.1.0), libcamera (0.1.0), libcdio (2.1.0), libcdio-paranoia (10.2+2.0.1), libdeflate (1.19), libdvdnav (6.1.1), libdvdread (6.1.3), libevent (2.1.12-stable), libffado (2.4.7), libfreeaptx (0.1.1), libgcrypt20 (1.10.3), libgsm (1.0.22), libinstpatch (1.1.6), liblc3 (1.0.1), libldac (2.0.2.3+git20200429), libmysofa (1.3.1), libnice (0.1.21), libopenaptx (0.2.0), libopenmpt (0.7.3), libpng1.6 (1.6.40), librabbitmq (0.11.0), libsdl2 (2.28.5), libshout (2.4.6), libsodium (1.0.21~git20231130), libsrtp2 (2.5.0), libssh (0.10.5), libtasn1-6 (4.18.0), libudfread (1.1.2), libunistring (1.0), libunwind (1.3.2), libva{-utils} (2.19.0), libvpx (1.13.1), libwebm (1.0.0.31), libwebp (1.3.2), libxfixes (6.0.0), libyaml (0.2.5), libyuv (0.0.1883), mbedtls (2.28.6), mpg123 (1.32.3), nettle (3.7.3), norm (1.5.9), openal-soft (1.22.2), opencore-amr (0.1.6), openexr (3.2.1), openh264 (2.4.0), openjpeg2 (2.5.0), opus (1.4), orc (0.4.34), pipewire (1.0.1), pipewire-media-session (0.4.2), qpwgraph (0.6.1), roc-toolkit (0.3.0), rubberband (3.1.2), snappy (1.1.10), sndio (1.9.0), soundtouch (2.3.2), speex{dsp} (1.2.1), srt (1.5.3), timgm6mb-soundfont, unbound (1.16.2), ust (2.13.4), vulkan-{headers,loader,tools} (1.3.268.0), wavpack (5.6.0), wireplumber (0.4.17), x264 (0.164.3153 = libx264-164), x265 (3.5 = libx265-199), zeromq3 (4.3.5), zimg (3.0.4), zlib (1.2.13), zvbi (0.2.41), zxing-cpp (2.1.0)\n",
            "\n",
            "Focal & Jammy: libdecor-0 (0.2.1 for libsdl2 >= 2.0.20)\n",
            "\n",
            "Focal only: libdbl-perl (1.19 = libdeflate / renamed source for i386)\n",
            "\n",
            "Xenial & Bionic: alsa-{lib,plugins,tools,topology-conf,ucm-conf,utils} (1.2.2), alsa-oss (1.1.8), alsa-plugins-extra (1.1.0), alsaequal (0.6), fftw3 (3.3.8), fribidi (1.0.8), glib2.0 (2.64.6), gobject-introspection (1.64.1), lcms2 (2.9), leptonlib (1.79.0), libgpg-error, libvidstab (1.1.0), p11-kit, tesseract (4.1.1), wayland-protocols (1.18), webrtc-audio-processing (0.3.1), wildmidi (0.4.3)\n",
            "\n",
            "Xenial only: autogen, curl, gcc-7 (7.5.0), glib2.0 (2.56.4), gobject-introspection (1.56.1), json-glib (1.4.2), lame (3.100), libidn2, libpsl, lm-sensors (3.6.0), mesa (18.0.5 rebuild for newer Wayland), nghttp2, openssl, pysimplesoap, python-{boto,httplib2,imaplib2} (compat with newer openssl), readline (7.0), unbound, wayland (1.16.0)\n",
            "\n",
            "==========================================================================\n",
            "\n",
            "*** Install ***\n",
            "\n",
            "FFmpeg can be installed from this PPA alone, as the required packages to satisfy minimum versions have been copied here (notify me if any missing). However, if _all_ newest versions of graphics and multimedia packages are desired then two additional PPAs can be added before installing FFmpeg:\n",
            "\n",
            "  sudo add-apt-repository ppa:savoury1/graphics\n",
            "  sudo add-apt-repository ppa:savoury1/multimedia\n",
            "  sudo add-apt-repository ppa:savoury1/ffmpeg4\n",
            "  sudo apt-get update\n",
            "  sudo apt-get upgrade && sudo apt-get dist-upgrade\n",
            "  sudo apt-get install ffmpeg\n",
            "\n",
            "Notes: GStreamer 1.20.x packages are copied here (ppa:savoury1/multimedia) as FFmpeg and GStreamer must both be built against the Debian SRT package version with renamed libsrt1.5-gnutls or they cannot both be installed at the same time. GStreamer is on basically every Ubuntu-based system so this means it is necessary to upgrade GStreamer packages when upgrading FFmpeg.\n",
            "\n",
            "Also, PipeWire 0.3.x packages are copied here from the multimedia PPA due PipeWire now being commonly used by various software. As the FFmpeg 4 PPA is required by numerous PPAs at this Launchpad site it makes the latest PipeWire readily available to all users. PipeWire is built with ALSA 1.2.2 minimum (Focal, backported to Xenial & Bionic) which is then required to run, so base ALSA packages are now also copied here for Xenial & Bionic.\n",
            "\n",
            "* Xenial systems: As of FFmpeg 4.3 the installation requires GCC >= 7 as the Intel-MediaSDK is enabled, with libmfx1 requiring GCC >= 7 (package fails to build with GCC 5.4.0). So GCC 7.5.0 (ppa:savoury1/toolchain) for Xenial has been copied here, making it easier to install FFmpeg 4.x on Xenial (so adding this FFmpeg 4 PPA will bring a few GCC 7.5.0 upgrades).\n",
            "\n",
            "* Focal systems: Builds of FFmpeg are now also available for i386 whereas they were not available initially. Launchpad does not build most packages for i386 architecture for Focal and newer series (Launchpad only builds i386 packages on a whitelist managed by the Launchpad team) including for dav1d and pocketsphinx, so these features are not enabled for Focal i386.\n",
            "\n",
            "*** Build ***\n",
            "\n",
            "This PPA has build dependencies on:\n",
            "\n",
            "  ppa:savoury1/build-tools\n",
            "  ppa:savoury1/backports\n",
            "  ppa:savoury1/fonts\n",
            "  ppa:savoury1/graphics\n",
            "  ppa:savoury1/multimedia\n",
            "\n",
            "Additionally, for Xenial builds only:\n",
            "\n",
            "  ppa:savoury1/perl-xenial\n",
            "\n",
            "*** Credits ***\n",
            "\n",
            "- Creators of FFmpeg: Michael Niedermayer and the entire FFmpeg team\n",
            "  https://github.com/FFmpeg/FFmpeg/graphs/contributors\n",
            "\n",
            "- Package code: Debian Multimedia Maintainers\n",
            "  https://tracker.debian.org/pkg/ffmpeg\n",
            "More info: https://launchpad.net/~savoury1/+archive/ubuntu/ffmpeg4\n",
            "Adding repository.\n",
            "Found existing deb entry in /etc/apt/sources.list.d/savoury1-ubuntu-ffmpeg4-jammy.list\n",
            "Adding deb entry to /etc/apt/sources.list.d/savoury1-ubuntu-ffmpeg4-jammy.list\n",
            "Found existing deb-src entry in /etc/apt/sources.list.d/savoury1-ubuntu-ffmpeg4-jammy.list\n",
            "Adding disabled deb-src entry to /etc/apt/sources.list.d/savoury1-ubuntu-ffmpeg4-jammy.list\n",
            "Adding key to /etc/apt/trusted.gpg.d/savoury1-ubuntu-ffmpeg4.gpg with fingerprint E996735927E427A733BB653E374C7797FB006459\n",
            "Hit:1 https://developer.download.nvidia.com/compute/cuda/repos/ubuntu2204/x86_64  InRelease\n",
            "Hit:2 https://cloud.r-project.org/bin/linux/ubuntu jammy-cran40/ InRelease\n",
            "Hit:3 http://security.ubuntu.com/ubuntu jammy-security InRelease\n",
            "Hit:4 http://archive.ubuntu.com/ubuntu jammy InRelease\n",
            "Hit:5 http://archive.ubuntu.com/ubuntu jammy-updates InRelease\n",
            "Hit:6 http://archive.ubuntu.com/ubuntu jammy-backports InRelease\n",
            "Hit:7 https://ppa.launchpadcontent.net/c2d4u.team/c2d4u4.0+/ubuntu jammy InRelease\n",
            "Hit:8 https://ppa.launchpadcontent.net/deadsnakes/ppa/ubuntu jammy InRelease\n",
            "Hit:9 https://ppa.launchpadcontent.net/graphics-drivers/ppa/ubuntu jammy InRelease\n",
            "Hit:10 https://ppa.launchpadcontent.net/savoury1/ffmpeg4/ubuntu jammy InRelease\n",
            "Hit:11 https://ppa.launchpadcontent.net/ubuntugis/ppa/ubuntu jammy InRelease\n",
            "Reading package lists... Done\n"
          ]
        }
      ]
    },
    {
      "cell_type": "code",
      "source": [
        "# Import necessary modules\n",
        "import os\n",
        "from pydub import AudioSegment\n",
        "from google.colab import files                                                  # Only necessary if you're executing the code in a google colab environment"
      ],
      "metadata": {
        "id": "-MyxOJkq-Ixp"
      },
      "execution_count": 8,
      "outputs": []
    },
    {
      "cell_type": "code",
      "source": [
        "# Optional: Mount Google Drive for using cloud-stored data\n",
        "from google.colab import drive\n",
        "drive.mount('/content/drive')"
      ],
      "metadata": {
        "colab": {
          "base_uri": "https://localhost:8080/"
        },
        "id": "mvIKn-129aSF",
        "outputId": "176aa234-3099-476e-c34d-b4288c9fab21"
      },
      "execution_count": 9,
      "outputs": [
        {
          "output_type": "stream",
          "name": "stdout",
          "text": [
            "Mounted at /content/drive\n"
          ]
        }
      ]
    },
    {
      "cell_type": "code",
      "source": [
        "# Set Directories (Replace with desired Working Directory)\n",
        "wd = '/content/drive/MyDrive/Colab Notebooks/Utility/Audio_Files/'              # Folder containing cut stimulus files\n",
        "os.chdir(wd)                                                                    # Sets current working directory to previously defined folder"
      ],
      "metadata": {
        "id": "FboYnxF7p2li"
      },
      "execution_count": 10,
      "outputs": []
    },
    {
      "cell_type": "markdown",
      "source": [
        "## Create Silent ISI Segments\n",
        "---\n",
        "\n"
      ],
      "metadata": {
        "id": "ekkCSe-USHB7"
      }
    },
    {
      "cell_type": "code",
      "source": [
        "# Create 50ms empty audio file\n",
        "empty_audio_50ms = AudioSegment.from_file(\"empty_audio_50ms.wav\", format=\"wav\")"
      ],
      "metadata": {
        "colab": {
          "base_uri": "https://localhost:8080/",
          "height": 17
        },
        "id": "5OdrixaiSHB8",
        "outputId": "61799b02-3550-4496-9ed4-8a11ce7beb54"
      },
      "execution_count": 27,
      "outputs": [
        {
          "output_type": "display_data",
          "data": {
            "text/plain": [
              "<IPython.core.display.Javascript object>"
            ],
            "application/javascript": [
              "\n",
              "    async function download(id, filename, size) {\n",
              "      if (!google.colab.kernel.accessAllowed) {\n",
              "        return;\n",
              "      }\n",
              "      const div = document.createElement('div');\n",
              "      const label = document.createElement('label');\n",
              "      label.textContent = `Downloading \"${filename}\": `;\n",
              "      div.appendChild(label);\n",
              "      const progress = document.createElement('progress');\n",
              "      progress.max = size;\n",
              "      div.appendChild(progress);\n",
              "      document.body.appendChild(div);\n",
              "\n",
              "      const buffers = [];\n",
              "      let downloaded = 0;\n",
              "\n",
              "      const channel = await google.colab.kernel.comms.open(id);\n",
              "      // Send a message to notify the kernel that we're ready.\n",
              "      channel.send({})\n",
              "\n",
              "      for await (const message of channel.messages) {\n",
              "        // Send a message to notify the kernel that we're ready.\n",
              "        channel.send({})\n",
              "        if (message.buffers) {\n",
              "          for (const buffer of message.buffers) {\n",
              "            buffers.push(buffer);\n",
              "            downloaded += buffer.byteLength;\n",
              "            progress.value = downloaded;\n",
              "          }\n",
              "        }\n",
              "      }\n",
              "      const blob = new Blob(buffers, {type: 'application/binary'});\n",
              "      const a = document.createElement('a');\n",
              "      a.href = window.URL.createObjectURL(blob);\n",
              "      a.download = filename;\n",
              "      div.appendChild(a);\n",
              "      a.click();\n",
              "      div.remove();\n",
              "    }\n",
              "  "
            ]
          },
          "metadata": {}
        },
        {
          "output_type": "display_data",
          "data": {
            "text/plain": [
              "<IPython.core.display.Javascript object>"
            ],
            "application/javascript": [
              "download(\"download_9fe48049-9e4c-4a0d-b11b-818b69634a7f\", \"empty_audio_50ms.wav\", 1146)"
            ]
          },
          "metadata": {}
        }
      ]
    },
    {
      "cell_type": "code",
      "source": [
        "# Create 1500ms empty audio file\n",
        "empty_audio_1500ms = AudioSegment.from_file(\"empty_audio_1500ms.wav\", format=\"wav\")"
      ],
      "metadata": {
        "id": "GShUOAcJSHB8"
      },
      "execution_count": 23,
      "outputs": []
    },
    {
      "cell_type": "markdown",
      "source": [
        "## Create Stimulus Syllable Segments\n",
        "---\n",
        "\n"
      ],
      "metadata": {
        "id": "WRc3M79bSHB8"
      }
    },
    {
      "cell_type": "code",
      "source": [
        "# Load /da/ syllables for both polarities\n",
        "da_syllable_p = AudioSegment.from_file(\"da_syllable_trigger_p.wav\", format=\"wav\")"
      ],
      "metadata": {
        "id": "jS-zi6byAlPm"
      },
      "execution_count": 24,
      "outputs": []
    },
    {
      "cell_type": "code",
      "source": [
        "# Combine Audio Segments 50ms ISI /da/\n",
        "da_burst_50ms_positive = empty_audio_50ms + da_syllable_p\n",
        "\n",
        "# Create Block of 14 /da/ bursts with 50ms ISI\n",
        "da_burst_50ms_block = da_burst_50ms_positive *14                                # Should produce a block of 14 /da/ syllables with 50ms breaks inbetween stimuli and alternating polarity"
      ],
      "metadata": {
        "colab": {
          "base_uri": "https://localhost:8080/",
          "height": 17
        },
        "outputId": "02253a74-f4c6-40b7-94e6-29ab816b6096",
        "id": "2KxPr4OVSHB8"
      },
      "execution_count": 28,
      "outputs": [
        {
          "output_type": "display_data",
          "data": {
            "text/plain": [
              "<IPython.core.display.Javascript object>"
            ],
            "application/javascript": [
              "\n",
              "    async function download(id, filename, size) {\n",
              "      if (!google.colab.kernel.accessAllowed) {\n",
              "        return;\n",
              "      }\n",
              "      const div = document.createElement('div');\n",
              "      const label = document.createElement('label');\n",
              "      label.textContent = `Downloading \"${filename}\": `;\n",
              "      div.appendChild(label);\n",
              "      const progress = document.createElement('progress');\n",
              "      progress.max = size;\n",
              "      div.appendChild(progress);\n",
              "      document.body.appendChild(div);\n",
              "\n",
              "      const buffers = [];\n",
              "      let downloaded = 0;\n",
              "\n",
              "      const channel = await google.colab.kernel.comms.open(id);\n",
              "      // Send a message to notify the kernel that we're ready.\n",
              "      channel.send({})\n",
              "\n",
              "      for await (const message of channel.messages) {\n",
              "        // Send a message to notify the kernel that we're ready.\n",
              "        channel.send({})\n",
              "        if (message.buffers) {\n",
              "          for (const buffer of message.buffers) {\n",
              "            buffers.push(buffer);\n",
              "            downloaded += buffer.byteLength;\n",
              "            progress.value = downloaded;\n",
              "          }\n",
              "        }\n",
              "      }\n",
              "      const blob = new Blob(buffers, {type: 'application/binary'});\n",
              "      const a = document.createElement('a');\n",
              "      a.href = window.URL.createObjectURL(blob);\n",
              "      a.download = filename;\n",
              "      div.appendChild(a);\n",
              "      a.click();\n",
              "      div.remove();\n",
              "    }\n",
              "  "
            ]
          },
          "metadata": {}
        },
        {
          "output_type": "display_data",
          "data": {
            "text/plain": [
              "<IPython.core.display.Javascript object>"
            ],
            "application/javascript": [
              "download(\"download_dc008085-7540-4bec-bab1-7f31288ec2a2\", \"da_burst_50ms_block.wav\", 370316)"
            ]
          },
          "metadata": {}
        }
      ]
    },
    {
      "cell_type": "code",
      "source": [
        "# %% Combine Audio Segments 1500ms ISI /da/\n",
        "\n",
        "# Add the empty audio segment to the existing audio\n",
        "da_burst_1500ms_positive = da_syllable_p + empty_audio_1500ms\n",
        "\n",
        "# Create Block of 2 /da/ bursts with 50ms ISI\n",
        "da_burst_1500ms_block = empty_audio_1500ms\n",
        "da_burst_1500ms_block += da_burst_1500ms_positive + da_burst_1500ms_positive    # Should produce a block of 2 /da/ syllables with 1500ms breaks before, inbetween, and after the 2 stimuli\\"
      ],
      "metadata": {
        "id": "wUustmDKSHB9"
      },
      "execution_count": 29,
      "outputs": []
    },
    {
      "cell_type": "code",
      "source": [
        "# %% Create final building block\n",
        "Combined_Block = da_burst_50ms_block + da_burst_1500ms_block"
      ],
      "metadata": {
        "id": "rvWAjM6mSHB9"
      },
      "execution_count": 30,
      "outputs": []
    },
    {
      "cell_type": "markdown",
      "source": [
        "# Extract & Download Final File\n",
        "---"
      ],
      "metadata": {
        "id": "hNlLktt-SHB9"
      }
    },
    {
      "cell_type": "code",
      "execution_count": 31,
      "metadata": {
        "colab": {
          "base_uri": "https://localhost:8080/",
          "height": 17
        },
        "outputId": "690f2fb9-34f8-41dc-b155-e6ad946a85a6",
        "id": "Ar99otpQSHB9"
      },
      "outputs": [
        {
          "output_type": "display_data",
          "data": {
            "text/plain": [
              "<IPython.core.display.Javascript object>"
            ],
            "application/javascript": [
              "\n",
              "    async function download(id, filename, size) {\n",
              "      if (!google.colab.kernel.accessAllowed) {\n",
              "        return;\n",
              "      }\n",
              "      const div = document.createElement('div');\n",
              "      const label = document.createElement('label');\n",
              "      label.textContent = `Downloading \"${filename}\": `;\n",
              "      div.appendChild(label);\n",
              "      const progress = document.createElement('progress');\n",
              "      progress.max = size;\n",
              "      div.appendChild(progress);\n",
              "      document.body.appendChild(div);\n",
              "\n",
              "      const buffers = [];\n",
              "      let downloaded = 0;\n",
              "\n",
              "      const channel = await google.colab.kernel.comms.open(id);\n",
              "      // Send a message to notify the kernel that we're ready.\n",
              "      channel.send({})\n",
              "\n",
              "      for await (const message of channel.messages) {\n",
              "        // Send a message to notify the kernel that we're ready.\n",
              "        channel.send({})\n",
              "        if (message.buffers) {\n",
              "          for (const buffer of message.buffers) {\n",
              "            buffers.push(buffer);\n",
              "            downloaded += buffer.byteLength;\n",
              "            progress.value = downloaded;\n",
              "          }\n",
              "        }\n",
              "      }\n",
              "      const blob = new Blob(buffers, {type: 'application/binary'});\n",
              "      const a = document.createElement('a');\n",
              "      a.href = window.URL.createObjectURL(blob);\n",
              "      a.download = filename;\n",
              "      div.appendChild(a);\n",
              "      a.click();\n",
              "      div.remove();\n",
              "    }\n",
              "  "
            ]
          },
          "metadata": {}
        },
        {
          "output_type": "display_data",
          "data": {
            "text/plain": [
              "<IPython.core.display.Javascript object>"
            ],
            "application/javascript": [
              "download(\"download_7692fdd2-3d68-4442-86a5-314abbb5433b\", \"Final_DA_sABR_ACT_Sweeps.wav\", 217074068)"
            ]
          },
          "metadata": {}
        }
      ],
      "source": [
        "# %% Create final ABR File\n",
        "Final_DA_sABR_ACT_Sweeps = Combined_Block * 181                                 # Make a sequence of 181 combined blocks (2534 Subcortical 50ms ISI sweeps, 362 Cortical 1500ms ISI sweeps)\n",
        "\n",
        "# Export/Download final ABR file\n",
        "Final_DA_sABR_ACT_Sweeps.export(\"Final_DA_sABR_Sweeps_BM_NAP.wav\", format=\"wav\")   # Export final sABR audio file - || the default bit rate should be 1411 kbps, bit rates can be changed using the bitrate argument in the audio.export() function. - ||e.g.: audio.export(\"output.wav\", format=\"wav\", bitrate=\"16k\")\n",
        "files.download('Final_DA_sABR_Sweeps_BM_NAP.wav')                                  # Optional: For Google Colab users, this downloads the exported file from the environment"
      ]
    }
  ]
}