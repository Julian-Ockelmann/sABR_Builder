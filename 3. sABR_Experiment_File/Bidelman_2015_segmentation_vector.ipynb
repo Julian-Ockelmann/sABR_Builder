{
  "nbformat": 4,
  "nbformat_minor": 0,
  "metadata": {
    "colab": {
      "provenance": []
    },
    "kernelspec": {
      "name": "python3",
      "display_name": "Python 3"
    },
    "language_info": {
      "name": "python"
    }
  },
  "cells": [
    {
      "cell_type": "markdown",
      "source": [
        "# [Update Script Description]"
      ],
      "metadata": {
        "id": "HcG8T92ETHis"
      }
    },
    {
      "cell_type": "code",
      "source": [
        "import numpy as np\n",
        "from google.colab import files\n",
        "import pandas as pd\n"
      ],
      "metadata": {
        "id": "FXZSkXLiSTv_"
      },
      "execution_count": null,
      "outputs": []
    },
    {
      "cell_type": "code",
      "source": [
        "from google.colab import drive\n",
        "drive.mount('/content/drive')"
      ],
      "metadata": {
        "colab": {
          "base_uri": "https://localhost:8080/"
        },
        "id": "DuGhna_PSTGa",
        "outputId": "833774f2-0b56-4ebd-bfa5-6d833689ffb5"
      },
      "execution_count": null,
      "outputs": [
        {
          "output_type": "stream",
          "name": "stdout",
          "text": [
            "Mounted at /content/drive\n"
          ]
        }
      ]
    },
    {
      "cell_type": "code",
      "execution_count": null,
      "metadata": {
        "colab": {
          "base_uri": "https://localhost:8080/",
          "height": 281
        },
        "id": "_mv_CWyxPvVz",
        "outputId": "a3d5fe39-a189-402e-af8e-1f7a73bde3b5"
      },
      "outputs": [
        {
          "output_type": "stream",
          "name": "stdout",
          "text": [
            "[[1]\n",
            " [1]\n",
            " [1]\n",
            " ...\n",
            " [1]\n",
            " [2]\n",
            " [2]]\n",
            "[[1]\n",
            " [3]\n",
            " [1]\n",
            " ...\n",
            " [3]\n",
            " [2]\n",
            " [4]]\n"
          ]
        },
        {
          "output_type": "display_data",
          "data": {
            "text/plain": [
              "<IPython.core.display.Javascript object>"
            ],
            "application/javascript": [
              "\n",
              "    async function download(id, filename, size) {\n",
              "      if (!google.colab.kernel.accessAllowed) {\n",
              "        return;\n",
              "      }\n",
              "      const div = document.createElement('div');\n",
              "      const label = document.createElement('label');\n",
              "      label.textContent = `Downloading \"${filename}\": `;\n",
              "      div.appendChild(label);\n",
              "      const progress = document.createElement('progress');\n",
              "      progress.max = size;\n",
              "      div.appendChild(progress);\n",
              "      document.body.appendChild(div);\n",
              "\n",
              "      const buffers = [];\n",
              "      let downloaded = 0;\n",
              "\n",
              "      const channel = await google.colab.kernel.comms.open(id);\n",
              "      // Send a message to notify the kernel that we're ready.\n",
              "      channel.send({})\n",
              "\n",
              "      for await (const message of channel.messages) {\n",
              "        // Send a message to notify the kernel that we're ready.\n",
              "        channel.send({})\n",
              "        if (message.buffers) {\n",
              "          for (const buffer of message.buffers) {\n",
              "            buffers.push(buffer);\n",
              "            downloaded += buffer.byteLength;\n",
              "            progress.value = downloaded;\n",
              "          }\n",
              "        }\n",
              "      }\n",
              "      const blob = new Blob(buffers, {type: 'application/binary'});\n",
              "      const a = document.createElement('a');\n",
              "      a.href = window.URL.createObjectURL(blob);\n",
              "      a.download = filename;\n",
              "      div.appendChild(a);\n",
              "      a.click();\n",
              "      div.remove();\n",
              "    }\n",
              "  "
            ]
          },
          "metadata": {}
        },
        {
          "output_type": "display_data",
          "data": {
            "text/plain": [
              "<IPython.core.display.Javascript object>"
            ],
            "application/javascript": [
              "download(\"download_b98ec7b0-426d-4adc-88bc-7dadbbc27a9e\", \"vector.csv\", 5792)"
            ]
          },
          "metadata": {}
        }
      ],
      "source": [
        "# Define the repeating pattern\n",
        "pattern = [1]*14 + [2]*2\n",
        "\n",
        "# Repeat the pattern to create a vector of length 2896\n",
        "vector = np.array(pattern * (2896 // len(pattern)))\n",
        "\n",
        "# Reshape the vector to have one column and 2896 rows\n",
        "vector = vector.reshape(-1, 1)\n",
        "\n",
        "print(vector)\n",
        "\n",
        "# Initialize counters for 1s and 2s\n",
        "counter_1 = 0\n",
        "counter_2 = 0\n",
        "\n",
        "# Iterate over the vector\n",
        "for i in range(len(vector)):\n",
        "    # If the current element is 1\n",
        "    if vector[i] == 1:\n",
        "        counter_1 += 1\n",
        "        # If this is the second 1, replace it with 3\n",
        "        if counter_1 % 2 == 0:\n",
        "            vector[i] = 3\n",
        "    # If the current element is 2\n",
        "    elif vector[i] == 2:\n",
        "        counter_2 += 1\n",
        "        # If this is the second 2, replace it with 4\n",
        "        if counter_2 % 2 == 0:\n",
        "            vector[i] = 4\n",
        "\n",
        "print(vector)\n",
        "\n",
        "import pandas as pd\n",
        "\n",
        "# Convert the numpy array to a DataFrame\n",
        "df = pd.DataFrame(vector)\n",
        "\n",
        "# Save the DataFrame to a CSV file\n",
        "df.to_csv('vector.csv', index=False, header=False)\n",
        "\n",
        "# Download the CSV file\n",
        "files.download('vector.csv')"
      ]
    }
  ]
}
